{
  "nbformat": 4,
  "nbformat_minor": 0,
  "metadata": {
    "colab": {
      "provenance": []
    },
    "kernelspec": {
      "name": "python3",
      "display_name": "Python 3"
    },
    "language_info": {
      "name": "python"
    }
  },
  "cells": [
    {
      "cell_type": "code",
      "execution_count": 27,
      "metadata": {
        "id": "96BKCXJIgXR5"
      },
      "outputs": [],
      "source": [
        "from enum import Enum\n",
        "from typing import Optional\n",
        "\n",
        "class Brand(Enum):\n",
        "    BELAZ = \"БелАЗ\"\n",
        "    KOMATSU = \"Komatsu\"\n",
        "    HITACHI = \"Hitachi\"\n",
        "    MERCEDES = \"Mercedes-Benz\"\n",
        "    KAMAZ = \"КамАЗ\"\n",
        "    OTHER = \"Другое\"\n",
        "class Car:\n",
        "  def __init__(self, id: int, coordinates: list, gps: list, manufacturer: Brand, model: str, repair_status: str):\n",
        "    self.id = id\n",
        "    self.coordinates = coordinates\n",
        "    self.gps = gps\n",
        "    self.manufacturer = manufacturer\n",
        "    self.model = model\n",
        "    self.driver: Optional[Driver] = None\n",
        "    self.repair_status = repair_status\n",
        "  def add_driver(self, driver: \"Driver\") -> None:\n",
        "    self.driver = driver\n",
        "    driver.current_car = self\n",
        "  def remove_driver(self) -> None:\n",
        "    if self.driver:\n",
        "        self.driver.current_car = None\n",
        "        self.driver = None\n",
        "  def show_info(self):\n",
        "    print(self.id)\n",
        "    print(self.coordinates)\n",
        "    print(self.gps)\n",
        "    print(self.manufacturer)\n",
        "    print(self.model)\n",
        "    print(self.driver)\n",
        "  def send_to_repair(self):\n",
        "        if self.repair_status == \"In repair\":\n",
        "          pass\n",
        "        else:\n",
        "          self.repair_status = \"In repair\"\n",
        "  def take_from_repair(self):\n",
        "        if self.repair_status == \"Not in repair\":\n",
        "            pass\n",
        "        else:\n",
        "            self.repair_status = \"Not in repair\""
      ]
    },
    {
      "cell_type": "code",
      "source": [
        "from enum import Enum\n",
        "from typing import Optional\n",
        "class Category(Enum):\n",
        "    SMALL = \"Малая грузоподъемность\"\n",
        "    MEDIUM = \"Средняя грузоподъемнось\"\n",
        "    LARGE = \"Большая грузоподъемность\"\n",
        "class MiningDumpTruck(Car): #карьерные самосвалы\n",
        "  def __init__(self, id: int, coordinates: list, gps: list, manufacturer: Brand, model: str, repair_status: str, capacity: int, load: str):\n",
        "      super().__init__(id, coordinates, gps, manufacturer, model, repair_status)\n",
        "      self.capacity = capacity\n",
        "      self.category = self.get_category()\n",
        "      self.load = load\n",
        "  def get_category(self) -> Category:\n",
        "        if 25 <= self.capacity < 90:\n",
        "            return Category.SMALL\n",
        "        elif 90 <= self.capacity < 180:\n",
        "            return Category.MEDIUM\n",
        "        else:\n",
        "            return Category.LARGE\n",
        "  def put_load(self, load: str) -> None:\n",
        "        self.load = load\n",
        "  def remove_load(self):\n",
        "        self.load = \"\""
      ],
      "metadata": {
        "id": "ze-fKCUumnRY"
      },
      "execution_count": 28,
      "outputs": []
    },
    {
      "cell_type": "code",
      "source": [
        "class DumpTruck(Car): #обычные самосвалы\n",
        "    def __init__(self, id: int, coordinates: list, gps: list, manufacturer: Brand, model: str, repair_status: str, load: str):\n",
        "      super().__init__(id, coordinates, gps, manufacturer, model, repair_status)\n",
        "      self.load = load\n",
        "    def put_load(self, load: str) -> None:\n",
        "        self.load = load\n",
        "    def remove_load(self, load: str):\n",
        "        self.load = \"\""
      ],
      "metadata": {
        "id": "WWUKraPPmnHm"
      },
      "execution_count": 29,
      "outputs": []
    },
    {
      "cell_type": "code",
      "source": [
        "class Service(Car): #служебные машины\n",
        "    def __init__(self, id: int, coordinates: list, gps: list, manufacturer: Brand, model: str, repair_status: str, purpose: str):\n",
        "      super().__init__(id, coordinates, gps, manufacturer, model, repair_status)\n",
        "      self.purpose = purpose"
      ],
      "metadata": {
        "id": "CLV_MxOXmm0v"
      },
      "execution_count": 30,
      "outputs": []
    },
    {
      "cell_type": "code",
      "source": [
        "class Driver: #водитель\n",
        "    def __init__(self, id: int, name: str, surname: str, radio_number: str):\n",
        "        self.id = id\n",
        "        self.name = name\n",
        "        self.surname = surname\n",
        "        self.radio_number = radio_number\n",
        "        self.current_car: Optional[Car] = None\n",
        "\n",
        "    def add_to_car(self, car: Car) -> None:\n",
        "        if self.current_car:\n",
        "            self.current_car.remove_driver()\n",
        "        car.add_driver(self)\n",
        "    def remove_from_car(self, car: Car) -> None:\n",
        "        if self.current_car:\n",
        "            self.current_car.remove_driver()\n"
      ],
      "metadata": {
        "id": "zyH_d5Q8hB9Y"
      },
      "execution_count": 25,
      "outputs": []
    }
  ]
}